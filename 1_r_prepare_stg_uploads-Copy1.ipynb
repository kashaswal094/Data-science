{
 "cells": [
  {
   "cell_type": "markdown",
   "metadata": {
    "id": "gPDW4BOzgMTd"
   },
   "source": [
    "# Kenya Creating STG Uploads\n",
    "\n",
    "This Script creates the following files for upload into STG - \n",
    "1.  Academy Roster\n",
    "2.  Pupil Status By Bill\n",
    "\n",
    "All outputs will be created in ```3. STG Databases/3. Output/``` [folder](https://drive.google.com/drive/u/1/folders/1ZYsug17AlSeoCSMjBkwh_D2EXTpuqoQb)"
   ]
  },
  {
   "cell_type": "markdown",
   "metadata": {
    "id": "s7fKVy7OhsUi"
   },
   "source": [
    "# 1. Importing Libraries, Giving Drive Access"
   ]
  },
  {
   "cell_type": "markdown",
   "metadata": {
    "id": "sNU0Y4hwiqik"
   },
   "source": [
    "Resource - this [link](https://towardsdatascience.com/how-to-use-r-in-google-colab-b6e02d736497) shows how to setup google drive interation with R in colab"
   ]
  },
  {
   "cell_type": "code",
   "execution_count": null,
   "metadata": {
    "executionInfo": {
     "elapsed": 14685,
     "status": "ok",
     "timestamp": 1638116796080,
     "user": {
      "displayName": "Measurement Evaluation",
      "photoUrl": "https://lh3.googleusercontent.com/a/default-user=s64",
      "userId": "02880470480247989523"
     },
     "user_tz": -330
    },
    "id": "BnVKuZgi6JZ-",
    "scrolled": true
   },
   "outputs": [
    {
     "name": "stderr",
     "output_type": "stream",
     "text": [
      "Warning message in readRDS(dest):\n",
      "\"lzma decoding result 10\""
     ]
    },
    {
     "name": "stdout",
     "output_type": "stream",
     "text": [
      "\n",
      "  There is a binary version available but the source version is later:\n",
      "        binary source needs_compilation\n",
      "R.utils 2.10.1 2.11.0             FALSE\n",
      "\n"
     ]
    }
   ],
   "source": [
    "suppressMessages({\n",
    "    # if (\n",
    "    #   file.exists(\n",
    "    # '/usr/local/lib/python3.6/dist-packages/google/colab/_ipython.py')) {\n",
    "    \n",
    "    if (\n",
    "      TRUE) {\n",
    "            install.packages(\"R.utils\")\n",
    "            library('R.utils')\n",
    "            library('httr')\n",
    "            fn_check <- function() {return(TRUE)}\n",
    "            reassignInPackage('is_interactive', pkgName='httr', fn_check) \n",
    "            options(rlang_interactive=TRUE)\n",
    "    }\n",
    "})"
   ]
  },
  {
   "cell_type": "code",
   "execution_count": null,
   "metadata": {
    "colab": {
     "base_uri": "https://localhost:8080/"
    },
    "executionInfo": {
     "elapsed": 50082,
     "status": "ok",
     "timestamp": 1638116846153,
     "user": {
      "displayName": "Measurement Evaluation",
      "photoUrl": "https://lh3.googleusercontent.com/a/default-user=s64",
      "userId": "02880470480247989523"
     },
     "user_tz": -330
    },
    "id": "xuOaULJzOM4l",
    "outputId": "cfb8dd30-3f91-4bb9-f67d-78b3ffb19e2f",
    "scrolled": true
   },
   "outputs": [],
   "source": [
    "if (Sys.info()['sysname'] != 'Windows') {\n",
    "    suppressMessages({\n",
    "        install.packages(c('tidyverse', 'reticulate', 'googledrive', 'stringr'))\n",
    "\n",
    "        library('tidyverse')\n",
    "        library('reticulate')\n",
    "        library('googledrive')\n",
    "        library('stringr')\n",
    "    })    \n",
    "} else {\n",
    "    library('tidyverse')\n",
    "    library('reticulate')\n",
    "    library('googledrive')\n",
    "    library('stringr')\n",
    "}\n",
    "\n",
    "options(warn=-1)"
   ]
  },
  {
   "cell_type": "code",
   "execution_count": null,
   "metadata": {},
   "outputs": [],
   "source": []
  },
  {
   "cell_type": "code",
   "execution_count": null,
   "metadata": {
    "executionInfo": {
     "elapsed": 367,
     "status": "ok",
     "timestamp": 1638116846517,
     "user": {
      "displayName": "Measurement Evaluation",
      "photoUrl": "https://lh3.googleusercontent.com/a/default-user=s64",
      "userId": "02880470480247989523"
     },
     "user_tz": -330
    },
    "id": "Ol3lp9psQFwF"
   },
   "outputs": [],
   "source": [
    "drive_auth(\n",
    "    use_oob=TRUE, cache=TRUE,\n",
    "    \n",
    "    email= \"measurementevaluation.bridge@bridgeinternationalacademies.com\"\n",
    "    #email=\"clay.cantrell@newglobe.education\"\n",
    "    #email=\"karishma.aswal@newglobe.education\"\n",
    "    )"
   ]
  },
  {
   "cell_type": "markdown",
   "metadata": {
    "id": "VsKtgLtEiD4c"
   },
   "source": [
    "# 2. Setting Date to be Processed"
   ]
  },
  {
   "cell_type": "code",
   "execution_count": null,
   "metadata": {
    "colab": {
     "base_uri": "https://localhost:8080/",
     "height": 34
    },
    "executionInfo": {
     "elapsed": 395,
     "status": "ok",
     "timestamp": 1638116846911,
     "user": {
      "displayName": "Measurement Evaluation",
      "photoUrl": "https://lh3.googleusercontent.com/a/default-user=s64",
      "userId": "02880470480247989523"
     },
     "user_tz": -330
    },
    "id": "xOTDBFruNEBZ",
    "outputId": "cb052834-5394-4cf6-a0ac-7ab96016404e"
   },
   "outputs": [],
   "source": [
    "sys_date <- Sys.Date()\n",
    "date <- paste(substr(sys_date,1,4),\"_\", substr(sys_date,6,7),\"_\",substr(sys_date,9,10),sep=\"\")\n",
    "dow <- weekdays(sys_date)\n",
    "\n",
    "if(dow==\"Monday\"){\n",
    "  survey_visit <- paste(substr(sys_date-3,1,4),\"_\", substr(sys_date-3,6,7),\"_\",substr(sys_date-3,9,10),sep=\"\")\n",
    "}else{\n",
    "  survey_visit <- paste(substr(sys_date-1,1,4),\"_\", substr(sys_date-1,6,7),\"_\",substr(sys_date-1,9,10),sep=\"\")\n",
    "}\n",
    "survey_visit"
   ]
  },
  {
   "cell_type": "markdown",
   "metadata": {
    "id": "Jou0qeJiiJdh"
   },
   "source": [
    "# 3. Defining Directories and Confirming Existence of Input Files"
   ]
  },
  {
   "cell_type": "code",
   "execution_count": null,
   "metadata": {
    "executionInfo": {
     "elapsed": 8,
     "status": "ok",
     "timestamp": 1638116846912,
     "user": {
      "displayName": "Measurement Evaluation",
      "photoUrl": "https://lh3.googleusercontent.com/a/default-user=s64",
      "userId": "02880470480247989523"
     },
     "user_tz": -330
    },
    "id": "OV9QQGX0SktX"
   },
   "outputs": [],
   "source": [
    "# Put if condition \n",
    "if (Sys.info()['sysname'] != 'Windows'){\n",
    "    raw_data_dir_ <- 'KE_QA_2021_22/Term 2/2. Report Downloads'\n",
    "    output_dir_ <- 'KE_QA_2021_22/Term 2/3. STG Databases/3. Output'\n",
    "} else {download_path=\"G:/My Drive/KE_QA_2021_22/Term 2/3. STG Databases/3. Output/\"\n",
    "reported_file_path=\"G:\\\\My Drive\\\\KE_QA_2021_22\\\\Term 2\\\\2. Report Downloads\\\\\"}\n"
   ]
  },
  {
   "cell_type": "code",
   "execution_count": null,
   "metadata": {
    "executionInfo": {
     "elapsed": 8,
     "status": "ok",
     "timestamp": 1638116846913,
     "user": {
      "displayName": "Measurement Evaluation",
      "photoUrl": "https://lh3.googleusercontent.com/a/default-user=s64",
      "userId": "02880470480247989523"
     },
     "user_tz": -330
    },
    "id": "1ZKTzwml5W4J"
   },
   "outputs": [],
   "source": [
    "# raw_data_files_ <- drive_ls(path=raw_data_dir_, pattern='*.csv')"
   ]
  },
  {
   "cell_type": "code",
   "execution_count": null,
   "metadata": {
    "colab": {
     "base_uri": "https://localhost:8080/",
     "height": 34
    },
    "executionInfo": {
     "elapsed": 8,
     "status": "ok",
     "timestamp": 1638116846913,
     "user": {
      "displayName": "Measurement Evaluation",
      "photoUrl": "https://lh3.googleusercontent.com/a/default-user=s64",
      "userId": "02880470480247989523"
     },
     "user_tz": -330
    },
    "id": "4epPA3LIrVcX",
    "outputId": "7790e95c-16bf-4a4a-9f4c-cd5e6c16d262"
   },
   "outputs": [],
   "source": [
    "getwd()"
   ]
  },
  {
   "cell_type": "code",
   "execution_count": null,
   "metadata": {
    "executionInfo": {
     "elapsed": 8,
     "status": "ok",
     "timestamp": 1638116846914,
     "user": {
      "displayName": "Measurement Evaluation",
      "photoUrl": "https://lh3.googleusercontent.com/a/default-user=s64",
      "userId": "02880470480247989523"
     },
     "user_tz": -330
    },
    "id": "Ll9Uip7fcyG1"
   },
   "outputs": [],
   "source": [
    "files_to_be_present <- c(\n",
    "    'Active Pupil Contact', 'Roster of Pupils - Active Only (Pupil Level)', \n",
    "    'Active Teachers and Academy Managers' \n",
    "    )"
   ]
  },
  {
   "cell_type": "markdown",
   "metadata": {
    "id": "41AQJ2KMjRVC"
   },
   "source": [
    "# 4. Pupil Status"
   ]
  },
  {
   "cell_type": "code",
   "execution_count": null,
   "metadata": {
    "executionInfo": {
     "elapsed": 8,
     "status": "ok",
     "timestamp": 1638116846914,
     "user": {
      "displayName": "Measurement Evaluation",
      "photoUrl": "https://lh3.googleusercontent.com/a/default-user=s64",
      "userId": "02880470480247989523"
     },
     "user_tz": -330
    },
    "id": "uOM2Op0qYxbY"
   },
   "outputs": [],
   "source": [
    "file_active_pupils <- paste(\n",
    "    'Roster of Pupils - Active Only (Pupil Level)_', survey_visit, '.csv', sep='')\n",
    "pupil_status_for_stg <- paste(\n",
    "    survey_visit, '_0_Pupil Status By Bill cleaned', '.csv', sep='')\n",
    "\n"
   ]
  },
  {
   "cell_type": "markdown",
   "metadata": {
    "id": "vCSfmfPdVnSo"
   },
   "source": [
    "## 4.1 Import and Edit Roster of Pupils - Active Only"
   ]
  },
  {
   "cell_type": "code",
   "execution_count": null,
   "metadata": {
    "executionInfo": {
     "elapsed": 168500,
     "status": "ok",
     "timestamp": 1638117015406,
     "user": {
      "displayName": "Measurement Evaluation",
      "photoUrl": "https://lh3.googleusercontent.com/a/default-user=s64",
      "userId": "02880470480247989523"
     },
     "user_tz": -330
    },
    "id": "Uicg-Ss1R8kR"
   },
   "outputs": [],
   "source": [
    "# Downloading csv from drive\n",
    "if (Sys.info()['sysname'] != 'Windows'){\n",
    "drive_download(\n",
    "    file = paste(raw_data_dir_,'/',file_active_pupils, sep=''),\n",
    "    path = paste(getwd(),'/',file_active_pupils, sep=''),\n",
    "    type=NULL, overwrite=TRUE, verbose=FALSE\n",
    ")\n",
    "\n",
    "pupil_df <- read_csv(\n",
    "    paste(getwd(),'/',file_active_pupils, sep=''), \n",
    "    skip=2, col_names=TRUE, col_types = cols()) %>% \n",
    "    rename(\n",
    "      'CurrentStatus'='Status')\n",
    "}else\n",
    "  {pupil_df <- read_csv(paste(reported_file_path,file_active_pupils,sep=''), \n",
    "  skip=2, col_names=TRUE, col_types = cols()) %>% \n",
    "  rename('CurrentStatus'='Status')}\n"
   ]
  },
  {
   "cell_type": "code",
   "execution_count": null,
   "metadata": {
    "colab": {
     "base_uri": "https://localhost:8080/",
     "height": 0
    },
    "executionInfo": {
     "elapsed": 22,
     "status": "ok",
     "timestamp": 1638117015407,
     "user": {
      "displayName": "Measurement Evaluation",
      "photoUrl": "https://lh3.googleusercontent.com/a/default-user=s64",
      "userId": "02880470480247989523"
     },
     "user_tz": -330
    },
    "id": "agwIsSifnPW1",
    "outputId": "c8ab820d-fbf9-45a8-9125-bfd7969dd882"
   },
   "outputs": [],
   "source": [
    "# Check the column names: \n",
    "colnames(pupil_df)"
   ]
  },
  {
   "cell_type": "code",
   "execution_count": null,
   "metadata": {
    "executionInfo": {
     "elapsed": 8,
     "status": "ok",
     "timestamp": 1638117015408,
     "user": {
      "displayName": "Measurement Evaluation",
      "photoUrl": "https://lh3.googleusercontent.com/a/default-user=s64",
      "userId": "02880470480247989523"
     },
     "user_tz": -330
    },
    "id": "0pgVLpn6SZYG"
   },
   "outputs": [],
   "source": [
    "# Select relevant variables and rename to match database output: \n",
    "\n",
    "pupil_df_renamed = pupil_df %>% \n",
    "    select(\"PupilID\", \"AcademyCode\", \"CurrentTotalBalance\", \"CurrentStatus\", \n",
    "           \"GradeName\", 'Stream', 'FirstName', 'MiddleName', 'LastName') %>% \n",
    "    rename(\"AcademyName\"=\"AcademyCode\", \"TotalBalance\"=\"CurrentTotalBalance\") %>% \n",
    "    filter(is.na(PupilID)==FALSE)\n",
    "    \n"
   ]
  },
  {
   "cell_type": "code",
   "execution_count": null,
   "metadata": {
    "executionInfo": {
     "elapsed": 8,
     "status": "ok",
     "timestamp": 1638117015408,
     "user": {
      "displayName": "Measurement Evaluation",
      "photoUrl": "https://lh3.googleusercontent.com/a/default-user=s64",
      "userId": "02880470480247989523"
     },
     "user_tz": -330
    },
    "id": "loQ2LUWUIXaY"
   },
   "outputs": [],
   "source": [
    "# Clean pupil name columns and combine into a single column:\n",
    "\n",
    "pupil_df_renamed[\"PupilName\"]=paste(pupil_df_renamed$FirstName,pupil_df_renamed$MiddleName,pupil_df_renamed$LastName)\n",
    "pupil_df_renamed[\"PupilName\"]=str_replace_all(pupil_df_renamed[[\"PupilName\"]],\"NA\",\"\")\n",
    "pupil_df_renamed$PupilName <- str_replace_all(pupil_df_renamed$PupilName, \"\\\\s+\",\" \")\n",
    "\n"
   ]
  },
  {
   "cell_type": "code",
   "execution_count": null,
   "metadata": {
    "executionInfo": {
     "elapsed": 10,
     "status": "ok",
     "timestamp": 1638117015785,
     "user": {
      "displayName": "Measurement Evaluation",
      "photoUrl": "https://lh3.googleusercontent.com/a/default-user=s64",
      "userId": "02880470480247989523"
     },
     "user_tz": -330
    },
    "id": "4V_YAdE-SEQW"
   },
   "outputs": [],
   "source": [
    "# Define the CurrentStatus Variable so the two options (- and +) match the database output:\n",
    "\n",
    "pupil_df_defined <- pupil_df_renamed %>%\n",
    "mutate(CurrentStatus = ifelse(CurrentStatus=='Paid In Full', \"+\", \n",
    "                                  ifelse(CurrentStatus=='Overdue - Grace', \"+\", \n",
    "                                         ifelse(CurrentStatus=='Overdue - No Service', \"-\", \"NA\")))\n",
    "           ) "
   ]
  },
  {
   "cell_type": "code",
   "execution_count": null,
   "metadata": {
    "executionInfo": {
     "elapsed": 10,
     "status": "ok",
     "timestamp": 1638117015785,
     "user": {
      "displayName": "Measurement Evaluation",
      "photoUrl": "https://lh3.googleusercontent.com/a/default-user=s64",
      "userId": "02880470480247989523"
     },
     "user_tz": -330
    },
    "id": "GxzJnGzmu0aX"
   },
   "outputs": [],
   "source": [
    "# Clean up the Academy Names:\n",
    "# Remove apostrophes from academies with apostrophes\n",
    "pupil_df_defined$AcademyName <- gsub(\"'\", '', pupil_df_defined$AcademyName)"
   ]
  },
  {
   "cell_type": "code",
   "execution_count": null,
   "metadata": {
    "executionInfo": {
     "elapsed": 10,
     "status": "ok",
     "timestamp": 1638117015786,
     "user": {
      "displayName": "Measurement Evaluation",
      "photoUrl": "https://lh3.googleusercontent.com/a/default-user=s64",
      "userId": "02880470480247989523"
     },
     "user_tz": -330
    },
    "id": "vyKfrFqOx5I3"
   },
   "outputs": [],
   "source": [
    "# Add ECE to Primary Classes\n",
    "pupil_df_defined$GradeName <- ifelse(pupil_df_defined$GradeName == \"Baby Class\", \"ECD 1: Baby Class\",\n",
    "                                     ifelse(pupil_df_defined$GradeName == \"Pre-primary 1\",\"ECD 2: Pre-primary 1\",\n",
    "                                                        ifelse(pupil_df_defined$GradeName == \"Pre-primary 2\", \n",
    "                                                              \"ECD 3: Pre-primary 2\", pupil_df_defined$GradeName))) "
   ]
  },
  {
   "cell_type": "code",
   "execution_count": null,
   "metadata": {
    "executionInfo": {
     "elapsed": 10,
     "status": "ok",
     "timestamp": 1638117015786,
     "user": {
      "displayName": "Measurement Evaluation",
      "photoUrl": "https://lh3.googleusercontent.com/a/default-user=s64",
      "userId": "02880470480247989523"
     },
     "user_tz": -330
    },
    "id": "aIKKHd6yTUo0"
   },
   "outputs": [],
   "source": [
    "# Define the classroom variable as the concatenation of GradeName and Stream:\n",
    "\n",
    "pupil_df_defined$classroom <- paste(pupil_df_defined$GradeName, pupil_df_defined$Stream)"
   ]
  },
  {
   "cell_type": "code",
   "execution_count": null,
   "metadata": {
    "executionInfo": {
     "elapsed": 11,
     "status": "ok",
     "timestamp": 1638117015787,
     "user": {
      "displayName": "Measurement Evaluation",
      "photoUrl": "https://lh3.googleusercontent.com/a/default-user=s64",
      "userId": "02880470480247989523"
     },
     "user_tz": -330
    },
    "id": "rfL9zaipsbo1"
   },
   "outputs": [],
   "source": [
    "# Select the final variables: \n",
    "\n",
    "pupil_df_final <- pupil_df_defined %>% select(\n",
    "  'PupilID', 'AcademyName', 'PupilName', \n",
    "  'CurrentStatus', 'TotalBalance', \n",
    "  'GradeName', 'Stream', 'classroom')%>%filter(pupil_df_defined$GradeName!=\"Unassigned\")"
   ]
  },
  {
   "cell_type": "code",
   "execution_count": null,
   "metadata": {
    "colab": {
     "base_uri": "https://localhost:8080/",
     "height": 0
    },
    "executionInfo": {
     "elapsed": 10,
     "status": "ok",
     "timestamp": 1638117015787,
     "user": {
      "displayName": "Measurement Evaluation",
      "photoUrl": "https://lh3.googleusercontent.com/a/default-user=s64",
      "userId": "02880470480247989523"
     },
     "user_tz": -330
    },
    "id": "XewdgwoBX30z",
    "outputId": "a143fd0e-f573-4c4d-bd0d-63429cb8307d"
   },
   "outputs": [],
   "source": [
    "# Check for duplicate Pupil IDs:\n",
    "\n",
    "dups <- pupil_df_final[duplicated(pupil_df_final$PupilID),]\n",
    "\n",
    "dim(dups)\n",
    "\n",
    "dups"
   ]
  },
  {
   "cell_type": "code",
   "execution_count": null,
   "metadata": {
    "colab": {
     "base_uri": "https://localhost:8080/",
     "height": 0
    },
    "executionInfo": {
     "elapsed": 512,
     "status": "ok",
     "timestamp": 1638117016290,
     "user": {
      "displayName": "Measurement Evaluation",
      "photoUrl": "https://lh3.googleusercontent.com/a/default-user=s64",
      "userId": "02880470480247989523"
     },
     "user_tz": -330
    },
    "id": "Nq86Q1JLwj1Z",
    "outputId": "f8f2ed1e-d46d-461b-9728-b2cbcff28760"
   },
   "outputs": [],
   "source": [
    "# Preview the Output: \n",
    "dim(pupil_df_final); \n",
    "unique(pupil_df_final$CurrentStatus); unique(pupil_df_final$GradeName)\n",
    "head(pupil_df_final)"
   ]
  },
  {
   "cell_type": "code",
   "execution_count": null,
   "metadata": {
    "executionInfo": {
     "elapsed": 7,
     "status": "ok",
     "timestamp": 1638117016291,
     "user": {
      "displayName": "Measurement Evaluation",
      "photoUrl": "https://lh3.googleusercontent.com/a/default-user=s64",
      "userId": "02880470480247989523"
     },
     "user_tz": -330
    },
    "id": "EkixiawMeE5P"
   },
   "outputs": [],
   "source": [
    "pupil_df_final <- pupil_df_final[!duplicated(pupil_df_final$PupilID),]"
   ]
  },
  {
   "cell_type": "markdown",
   "metadata": {
    "id": "cLNTH1D-4q3A"
   },
   "source": [
    "## 4.2 Export and Cleanup"
   ]
  },
  {
   "cell_type": "code",
   "execution_count": null,
   "metadata": {
    "executionInfo": {
     "elapsed": 8,
     "status": "ok",
     "timestamp": 1638117016292,
     "user": {
      "displayName": "Measurement Evaluation",
      "photoUrl": "https://lh3.googleusercontent.com/a/default-user=s64",
      "userId": "02880470480247989523"
     },
     "user_tz": -330
    },
    "id": "HFvVngu2xdyS"
   },
   "outputs": [],
   "source": [
    "# Export to CSV\n",
    "if (Sys.info()['sysname'] != 'Windows'){\n",
    "    write.csv(\n",
    "        pupil_df_final, paste(getwd(),'/',pupil_status_for_stg, sep=''), \n",
    "        row.names=FALSE, na =\".\")\n",
    "    drive_upload(paste(getwd(),'/',pupil_status_for_stg, sep=''), \n",
    "                 path = paste(output_dir_,'/',pupil_status_for_stg, sep=''), \n",
    "                 type=NULL, overwrite=TRUE, verbose=FALSE)\n",
    "}else\n",
    "{write.csv(\n",
    "  pupil_df_final, paste(download_path,pupil_status_for_stg, sep=''), \n",
    "  row.names=FALSE, na =\".\")}\n"
   ]
  },
  {
   "cell_type": "markdown",
   "metadata": {
    "id": "CIubz3doOWkV"
   },
   "source": [
    "## 4.3 Message"
   ]
  },
  {
   "cell_type": "code",
   "execution_count": null,
   "metadata": {
    "executionInfo": {
     "elapsed": 12,
     "status": "ok",
     "timestamp": 1638117193625,
     "user": {
      "displayName": "Measurement Evaluation",
      "photoUrl": "https://lh3.googleusercontent.com/a/default-user=s64",
      "userId": "02880470480247989523"
     },
     "user_tz": -330
    },
    "id": "5l6DnvfqOeyw"
   },
   "outputs": [],
   "source": [
    "message_prep_pupil_status <- paste(\n",
    "    \"PUPIL DATABASE: Dataset with \", nrow(pupil_df_final), \n",
    "    \" pupils exported for \", date, \n",
    "    sep=\"\")"
   ]
  },
  {
   "cell_type": "markdown",
   "metadata": {
    "id": "YTzX--86Kpgj"
   },
   "source": [
    "# 5. Academy Roster"
   ]
  },
  {
   "cell_type": "code",
   "execution_count": null,
   "metadata": {
    "executionInfo": {
     "elapsed": 13,
     "status": "ok",
     "timestamp": 1638117193626,
     "user": {
      "displayName": "Measurement Evaluation",
      "photoUrl": "https://lh3.googleusercontent.com/a/default-user=s64",
      "userId": "02880470480247989523"
     },
     "user_tz": -330
    },
    "id": "kYnJR-XvLI4B"
   },
   "outputs": [],
   "source": [
    "file_active_teachers <- paste(\n",
    "    'Active Teachers and Academy Managers (2)_', survey_visit, '.csv', sep='')\n",
    "\n",
    "academy_roster_for_stg <- paste(\n",
    "    survey_visit, '_0_Academy Roster cleaned', '.csv', sep='')"
   ]
  },
  {
   "cell_type": "markdown",
   "metadata": {
    "id": "5XJM3Ufbptwe"
   },
   "source": [
    "## 5.1 Academy Manager Information"
   ]
  },
  {
   "cell_type": "code",
   "execution_count": null,
   "metadata": {
    "executionInfo": {
     "elapsed": 152548,
     "status": "ok",
     "timestamp": 1638117346162,
     "user": {
      "displayName": "Measurement Evaluation",
      "photoUrl": "https://lh3.googleusercontent.com/a/default-user=s64",
      "userId": "02880470480247989523"
     },
     "user_tz": -330
    },
    "id": "bz3712mVM4di"
   },
   "outputs": [],
   "source": [
    "# Downloading csv from drive\n",
    "if (Sys.info()['sysname'] != 'Windows'){\n",
    "dat=read_csv(paste(reported_file_path,file_active_teachers,sep = ''),\n",
    "  col_names=TRUE, col_types = cols())\n",
    "  \n",
    "drive_download(\n",
    "    file = paste(raw_data_dir_,'/',file_active_teachers, sep=''),\n",
    "    path = paste(getwd(),'/',file_active_teachers, sep=''),\n",
    "    type=NULL, overwrite=TRUE, verbose=FALSE\n",
    ")\n",
    "dat <- read_csv(\n",
    "    paste(getwd(),'/',file_active_teachers, sep=''), \n",
    "    col_names=TRUE, col_types = cols())\n",
    "}else\n",
    "{dat <- read_csv(paste(reported_file_path,file_active_teachers,sep=''), \n",
    " col_names=TRUE, col_types = cols())}\n"
   ]
  },
  {
   "cell_type": "code",
   "execution_count": null,
   "metadata": {},
   "outputs": [],
   "source": [
    "dat"
   ]
  },
  {
   "cell_type": "code",
   "execution_count": null,
   "metadata": {},
   "outputs": [],
   "source": [
    "needed_columns <- c(\"EmpID\", \"EmpName\", \"Academycode\", \n",
    "                    \"JobTitle\",\"AssignedGrade\",\"AssignedClassroom\")\n",
    "\n",
    "dat_reduced <- dat %>% \n",
    "                  #select(all_of(needed_columns)) %>% \n",
    "                  select(needed_columns) %>% \n",
    "                  rename('AcademyName'='Academycode', \n",
    "                         'GradeName'='AssignedGrade', \n",
    "                         'Stream'='AssignedClassroom')\n",
    "\n",
    "dat_reduced$classroom <- paste(\n",
    "    dat_reduced$GradeName,\" \",dat_reduced$Stream, sep=\"\")"
   ]
  },
  {
   "cell_type": "code",
   "execution_count": null,
   "metadata": {
    "executionInfo": {
     "elapsed": 13,
     "status": "ok",
     "timestamp": 1638117346162,
     "user": {
      "displayName": "Measurement Evaluation",
      "photoUrl": "https://lh3.googleusercontent.com/a/default-user=s64",
      "userId": "02880470480247989523"
     },
     "user_tz": -330
    },
    "id": "0tgc5mg7Ncw_"
   },
   "outputs": [],
   "source": [
    "# Remove Duplicates & Entries without Assignment\n",
    "dat_final <- dat_reduced[!duplicated(dat_reduced$EmpID), ]\n",
    "dat_final <- dat_final[!is.na(dat_final$AcademyName), ]\n",
    "\n",
    "# Remove line breaks and carriage returns\n",
    "dat_final$EmpName <- gsub(\"\\r?\\n|\\r\",\"\",dat_final$EmpName)"
   ]
  },
  {
   "cell_type": "code",
   "execution_count": null,
   "metadata": {
    "executionInfo": {
     "elapsed": 14,
     "status": "ok",
     "timestamp": 1638117346163,
     "user": {
      "displayName": "Measurement Evaluation",
      "photoUrl": "https://lh3.googleusercontent.com/a/default-user=s64",
      "userId": "02880470480247989523"
     },
     "user_tz": -330
    },
    "id": "Oq1fc13CiX-A"
   },
   "outputs": [],
   "source": [
    "# Add a \"Teacher Missing from List\" for each school\n",
    "list_of_schools <- dat_final  \n",
    "\n",
    "list_of_schools$EmpID <- NA\n",
    "list_of_schools$EmpName <- NA\n",
    "list_of_schools$JobTitle <- \"Permanent Teacher\"\n",
    "list_of_schools$classroom <- NA\n",
    "list_of_schools$GradeName <- NA\n",
    "list_of_schools$Stream <- NA"
   ]
  },
  {
   "cell_type": "code",
   "execution_count": null,
   "metadata": {
    "executionInfo": {
     "elapsed": 14,
     "status": "ok",
     "timestamp": 1638117346163,
     "user": {
      "displayName": "Measurement Evaluation",
      "photoUrl": "https://lh3.googleusercontent.com/a/default-user=s64",
      "userId": "02880470480247989523"
     },
     "user_tz": -330
    },
    "id": "5bdxszcMig3E"
   },
   "outputs": [],
   "source": [
    "unique_schools <- list_of_schools[!duplicated(list_of_schools),]\n",
    "unique_schools  <- unique_schools %>% \n",
    "                      mutate(count = seq(n()))\n",
    "unique_schools$EmpID <- unique_schools$count\n",
    "needed_columns <- c(\"EmpID\" ,\"EmpName\", \"AcademyName\", \n",
    "                    \"JobTitle\", \"GradeName\", \"Stream\", \"classroom\")\n",
    "unique_schools <- unique_schools[ , needed_columns]\n",
    "\n",
    "unique_schools$EmpName <- \"*Teacher Departed, Current Vacancy\""
   ]
  },
  {
   "cell_type": "code",
   "execution_count": null,
   "metadata": {
    "executionInfo": {
     "elapsed": 13,
     "status": "ok",
     "timestamp": 1638117346163,
     "user": {
      "displayName": "Measurement Evaluation",
      "photoUrl": "https://lh3.googleusercontent.com/a/default-user=s64",
      "userId": "02880470480247989523"
     },
     "user_tz": -330
    },
    "id": "117aRep5i2U0"
   },
   "outputs": [],
   "source": [
    "departed <- unique_schools\n",
    "departed$EmpID <- departed$EmpID*10 + 1"
   ]
  },
  {
   "cell_type": "code",
   "execution_count": null,
   "metadata": {
    "executionInfo": {
     "elapsed": 14,
     "status": "ok",
     "timestamp": 1638117346164,
     "user": {
      "displayName": "Measurement Evaluation",
      "photoUrl": "https://lh3.googleusercontent.com/a/default-user=s64",
      "userId": "02880470480247989523"
     },
     "user_tz": -330
    },
    "id": "crHQENWNi-TD"
   },
   "outputs": [],
   "source": [
    "unique_schools$EmpName <- \"*Class De-streamed\"\n",
    "destreamed <- unique_schools\n",
    "destreamed$EmpID <- destreamed$EmpID*100000 + 1"
   ]
  },
  {
   "cell_type": "code",
   "execution_count": null,
   "metadata": {
    "executionInfo": {
     "elapsed": 14,
     "status": "ok",
     "timestamp": 1638117346164,
     "user": {
      "displayName": "Measurement Evaluation",
      "photoUrl": "https://lh3.googleusercontent.com/a/default-user=s64",
      "userId": "02880470480247989523"
     },
     "user_tz": -330
    },
    "id": "DTYtfh8Ai-Vl"
   },
   "outputs": [],
   "source": [
    "# Append all these\n",
    "dat_for_upload <- rbind(dat_final, departed, destreamed)"
   ]
  },
  {
   "cell_type": "code",
   "execution_count": null,
   "metadata": {
    "executionInfo": {
     "elapsed": 14,
     "status": "ok",
     "timestamp": 1638117346164,
     "user": {
      "displayName": "Measurement Evaluation",
      "photoUrl": "https://lh3.googleusercontent.com/a/default-user=s64",
      "userId": "02880470480247989523"
     },
     "user_tz": -330
    },
    "id": "e04wdxlTjXiY"
   },
   "outputs": [],
   "source": [
    "# Add ECE to Primary Classes\n",
    "dat_for_upload$GradeName <- ifelse(\n",
    "    dat_for_upload$GradeName == \"Baby Class\", \n",
    "    \"ECD 1: Baby Class\", dat_for_upload$GradeName)\n",
    "dat_for_upload$GradeName <- ifelse(\n",
    "    dat_for_upload$GradeName == \"Pre-primary 1\", \n",
    "    \"ECD 2: Pre-primary 1\", dat_for_upload$GradeName)\n",
    "dat_for_upload$GradeName <- ifelse(\n",
    "    dat_for_upload$GradeName == \"Pre-primary 2\", \n",
    "    \"ECD 3: Pre-primary 2\", dat_for_upload$GradeName)\n",
    "\n",
    "# Remove apostrophes from academies with apostrophes\n",
    "dat_for_upload$AcademyName <- gsub(\"'\", '', dat_for_upload$AcademyName)\n",
    "\n",
    "#Remove apostrophes from names\n",
    "dat_for_upload$EmpName <- gsub(\"'\",\" \",dat_for_upload$EmpName)"
   ]
  },
  {
   "cell_type": "markdown",
   "metadata": {
    "id": "l7Sa9bpyp5RW"
   },
   "source": [
    "## 5.2 Export and Cleanup"
   ]
  },
  {
   "cell_type": "code",
   "execution_count": null,
   "metadata": {
    "executionInfo": {
     "elapsed": 134465,
     "status": "ok",
     "timestamp": 1638117480616,
     "user": {
      "displayName": "Measurement Evaluation",
      "photoUrl": "https://lh3.googleusercontent.com/a/default-user=s64",
      "userId": "02880470480247989523"
     },
     "user_tz": -330
    },
    "id": "2TviLqagrKmF"
   },
   "outputs": [],
   "source": [
    "# Export to CSV\n",
    "if (Sys.info()['sysname'] != 'Windows'){\n",
    "write.csv(\n",
    "    dat_for_upload, \n",
    "    paste(getwd(),'/',academy_roster_for_stg, sep=''),\n",
    "    row.names=FALSE, na =\".\")\n",
    "\n",
    "drive_upload(\n",
    "    paste(getwd(),'/',academy_roster_for_stg, sep=''), \n",
    "    path = paste(output_dir_,'/',academy_roster_for_stg, sep=''), \n",
    "    type=NULL, overwrite=TRUE, verbose=FALSE)\n",
    "}else\n",
    "{write.csv(\n",
    "  dat_for_upload, paste(download_path,academy_roster_for_stg, sep=''), \n",
    "  row.names=FALSE, na =\".\")}"
   ]
  },
  {
   "cell_type": "code",
   "execution_count": null,
   "metadata": {
    "executionInfo": {
     "elapsed": 18,
     "status": "ok",
     "timestamp": 1638117480617,
     "user": {
      "displayName": "Measurement Evaluation",
      "photoUrl": "https://lh3.googleusercontent.com/a/default-user=s64",
      "userId": "02880470480247989523"
     },
     "user_tz": -330
    },
    "id": "vt1qxfIjq_LY"
   },
   "outputs": [],
   "source": [
    "message_prep_academy_roster <- paste(\n",
    "    \"ACADEMY ROSTER: Dataset with \", nrow(dat_for_upload), \n",
    "    \" teachers exported for \", date, \n",
    "    sep=\"\")\n",
    "\n",
    "#Remove un-needed dataframes and values\n",
    "rm(dat, dat_final, dat_for_upload, dat_reduced, departed, destreamed, \n",
    "   list_of_schools, unique_schools, academy_roster_for_stg, needed_columns)"
   ]
  },
  {
   "cell_type": "markdown",
   "metadata": {
    "id": "qpJfOUqWz_nB"
   },
   "source": [
    "# Final Debug Messages"
   ]
  },
  {
   "cell_type": "code",
   "execution_count": null,
   "metadata": {
    "colab": {
     "base_uri": "https://localhost:8080/"
    },
    "executionInfo": {
     "elapsed": 17,
     "status": "ok",
     "timestamp": 1638117480617,
     "user": {
      "displayName": "Measurement Evaluation",
      "photoUrl": "https://lh3.googleusercontent.com/a/default-user=s64",
      "userId": "02880470480247989523"
     },
     "user_tz": -330
    },
    "id": "r3cDuCdixxV2",
    "outputId": "dfb366c2-2917-4a9e-87ec-850fd68c753e"
   },
   "outputs": [],
   "source": [
    "print(message_prep_pupil_status)\n",
    "print(message_prep_academy_roster)"
   ]
  },
  {
   "cell_type": "markdown",
   "metadata": {
    "id": "0A6y6cBKkcyk"
   },
   "source": [
    "# Extra Code for reference"
   ]
  },
  {
   "cell_type": "code",
   "execution_count": null,
   "metadata": {
    "executionInfo": {
     "elapsed": 8,
     "status": "ok",
     "timestamp": 1638117480618,
     "user": {
      "displayName": "Measurement Evaluation",
      "photoUrl": "https://lh3.googleusercontent.com/a/default-user=s64",
      "userId": "02880470480247989523"
     },
     "user_tz": -330
    },
    "id": "iQnmIzTNkbxH"
   },
   "outputs": [],
   "source": [
    "# dat_for_upload$AcademyName <- ifelse(dat_for_upload$AcademyName == \"King'eero-KBU\", \"Kingeero-KBU\", dat_for_upload$AcademyName)\n",
    "# dat_for_upload$AcademyName <- ifelse(dat_for_upload$AcademyName == \"Moi's Bridge-USG\", \"Mois Bridge-USG\", dat_for_upload$AcademyName)\n",
    "# dat_for_upload$AcademyName <- ifelse(dat_for_upload$AcademyName == \"Murang'a-MRA\", \"Muranga-MRA\", dat_for_upload$AcademyName)\n",
    "# dat_for_upload$AcademyName <- ifelse(dat_for_upload$AcademyName == \"Ng'iya-SYA\", \"Ngiya-SYA\", dat_for_upload$AcademyName)\n",
    "# dat_for_upload$AcademyName <- ifelse(dat_for_upload$AcademyName == \"Ng'ombeni-KLE\", \"Ngombeni-KLE\", dat_for_upload$AcademyName)\n",
    "# dat_for_upload$AcademyName <- ifelse(dat_for_upload$AcademyName == \"Wang'uru-KIR\", \"Wanguru-KIR\", dat_for_upload$AcademyName)"
   ]
  }
 ],
 "metadata": {
  "colab": {
   "collapsed_sections": [
    "gPDW4BOzgMTd",
    "s7fKVy7OhsUi",
    "Jou0qeJiiJdh",
    "41AQJ2KMjRVC",
    "cLNTH1D-4q3A",
    "YTzX--86Kpgj",
    "l7Sa9bpyp5RW",
    "0A6y6cBKkcyk"
   ],
   "name": "1_r_prepare_stg_uploads.ipynb",
   "provenance": []
  },
  "kernelspec": {
   "display_name": "R",
   "language": "R",
   "name": "ir"
  },
  "language_info": {
   "codemirror_mode": "r",
   "file_extension": ".r",
   "mimetype": "text/x-r-source",
   "name": "R",
   "pygments_lexer": "r",
   "version": "3.6.1"
  }
 },
 "nbformat": 4,
 "nbformat_minor": 1
}
