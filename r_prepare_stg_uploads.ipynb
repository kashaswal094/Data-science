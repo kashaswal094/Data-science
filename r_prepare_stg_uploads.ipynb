{
 "cells": [
  {
   "cell_type": "code",
   "execution_count": 1,
   "id": "5accb958",
   "metadata": {},
   "outputs": [
    {
     "name": "stderr",
     "output_type": "stream",
     "text": [
      "Registered S3 methods overwritten by 'ggplot2':\n",
      "  method         from \n",
      "  [.quosures     rlang\n",
      "  c.quosures     rlang\n",
      "  print.quosures rlang\n",
      "Registered S3 method overwritten by 'rvest':\n",
      "  method            from\n",
      "  read_xml.response xml2\n",
      "-- Attaching packages --------------------------------------- tidyverse 1.2.1 --\n",
      "v ggplot2 3.1.1       v purrr   0.3.2  \n",
      "v tibble  2.1.1       v dplyr   0.8.0.1\n",
      "v tidyr   0.8.3       v stringr 1.4.0  \n",
      "v readr   1.3.1       v forcats 0.4.0  \n",
      "-- Conflicts ------------------------------------------ tidyverse_conflicts() --\n",
      "x dplyr::filter() masks stats::filter()\n",
      "x dplyr::lag()    masks stats::lag()\n"
     ]
    },
    {
     "ename": "ERROR",
     "evalue": "Error: package or namespace load failed for 'googledrive' in loadNamespace(i, c(lib.loc, .libPaths()), versionCheck = vI[[i]]):\n namespace 'rlang' 0.3.4 is already loaded, but >= 0.4.9 is required\n",
     "output_type": "error",
     "traceback": [
      "Error: package or namespace load failed for 'googledrive' in loadNamespace(i, c(lib.loc, .libPaths()), versionCheck = vI[[i]]):\n namespace 'rlang' 0.3.4 is already loaded, but >= 0.4.9 is required\nTraceback:\n",
      "1. library(\"googledrive\")",
      "2. tryCatch({\n .     attr(package, \"LibPath\") <- which.lib.loc\n .     ns <- loadNamespace(package, lib.loc)\n .     env <- attachNamespace(ns, pos = pos, deps, exclude, include.only)\n . }, error = function(e) {\n .     P <- if (!is.null(cc <- conditionCall(e))) \n .         paste(\" in\", deparse(cc)[1L])\n .     else \"\"\n .     msg <- gettextf(\"package or namespace load failed for %s%s:\\n %s\", \n .         sQuote(package), P, conditionMessage(e))\n .     if (logical.return) \n .         message(paste(\"Error:\", msg), domain = NA)\n .     else stop(msg, call. = FALSE, domain = NA)\n . })",
      "3. tryCatchList(expr, classes, parentenv, handlers)",
      "4. tryCatchOne(expr, names, parentenv, handlers[[1L]])",
      "5. value[[3L]](cond)",
      "6. stop(msg, call. = FALSE, domain = NA)"
     ]
    }
   ],
   "source": [
    "library('tidyverse')\n",
    "library('reticulate')\n",
    "#library('googledrive')\n",
    "   \n",
    "\n",
    "options(warn=-1)"
   ]
  },
  {
   "cell_type": "code",
   "execution_count": null,
   "id": "5b66048d",
   "metadata": {},
   "outputs": [],
   "source": [
    "sys_date <- Sys.Date()\n",
    "date <- paste(substr(sys_date,1,4),\"_\", substr(sys_date,6,7),\"_\",substr(sys_date,9,10),sep=\"\")\n",
    "dow <- weekdays(sys_date)\n",
    "\n",
    "if(dow==\"Monday\"){\n",
    "  survey_visit <- paste(substr(sys_date-3,1,4),\"_\", substr(sys_date-3,6,7),\"_\",substr(sys_date-3,9,10),sep=\"\")\n",
    "}else{\n",
    "  survey_visit <- paste(substr(sys_date-1,1,4),\"_\", substr(sys_date-1,6,7),\"_\",substr(sys_date-1,9,10),sep=\"\")\n",
    "}\n"
   ]
  },
  {
   "cell_type": "code",
   "execution_count": null,
   "id": "353290b7",
   "metadata": {},
   "outputs": [],
   "source": [
    "setwd(\"G:/My Drive/KE_QA_2021_22/Term 3/3. STG Databases/2. Scripts\")\n",
    "\n",
    "getwd()"
   ]
  },
  {
   "cell_type": "code",
   "execution_count": null,
   "id": "029c4d4e",
   "metadata": {},
   "outputs": [],
   "source": [
    "raw_data_dir_ <- 'KE_QA_2021_22/Term 2/2. Report Downloads'\n",
    "output_dir_ <- 'KE_QA_2021_22/Term 2/3. STG Databases/3. Output'"
   ]
  },
  {
   "cell_type": "code",
   "execution_count": null,
   "id": "d7e631ed",
   "metadata": {},
   "outputs": [],
   "source": [
    "files_to_be_present <- c(\n",
    "    'Active Pupil Contact', 'Roster of Pupils - Active Only (Pupil Level)', \n",
    "    'Active Teachers and Academy Managers' \n",
    "    )"
   ]
  },
  {
   "cell_type": "code",
   "execution_count": null,
   "id": "53aaa6de",
   "metadata": {},
   "outputs": [],
   "source": [
    "file_active_pupils <- paste(\n",
    "    'Roster of Pupils - Active Only (Pupil Level)_', survey_visit, '.csv', sep='')\n",
    "pupil_status_for_stg <- paste(\n",
    "    survey_visit, '_0_Pupil Status By Bill cleaned', '.csv', sep='')"
   ]
  },
  {
   "cell_type": "code",
   "execution_count": null,
   "id": "b6008a44",
   "metadata": {},
   "outputs": [],
   "source": [
    "reported_file_path=\"G:\\\\My Drive\\\\KE_QA_2021_22\\\\Term 3\\\\2. Report Downloads\\\\\"\n"
   ]
  },
  {
   "cell_type": "code",
   "execution_count": null,
   "id": "ae839c68",
   "metadata": {},
   "outputs": [],
   "source": [
    "pupil_df <- read_csv(paste(reported_file_path,file_active_pupils,sep=''), \n",
    "  skip=2, col_names=TRUE, col_types = cols()) %>%rename('CurrentStatus'='Status')\n"
   ]
  },
  {
   "cell_type": "code",
   "execution_count": null,
   "id": "f9e409e6",
   "metadata": {},
   "outputs": [],
   "source": [
    "# Check the column names: \n",
    "colnames(pupil_df)"
   ]
  },
  {
   "cell_type": "code",
   "execution_count": null,
   "id": "d7953493",
   "metadata": {},
   "outputs": [],
   "source": [
    "# Select relevant variables and rename to match database output: \n",
    "\n",
    "pupil_df_renamed = pupil_df %>% \n",
    "    select(\"PupilID\", \"AcademyCode\", \"CurrentTotalBalance\", \"CurrentStatus\", \n",
    "           \"GradeName\", 'Stream', 'FirstName', 'MiddleName', 'LastName') %>% \n",
    "    rename(\"AcademyName\"=\"AcademyCode\", \"TotalBalance\"=\"CurrentTotalBalance\") %>% \n",
    "    filter(is.na(PupilID)==FALSE)\n",
    "    \n"
   ]
  },
  {
   "cell_type": "code",
   "execution_count": null,
   "id": "2a5d1581",
   "metadata": {},
   "outputs": [],
   "source": [
    "# Clean pupil name columns and combine into a single column:\n",
    "\n",
    "pupil_df_renamed[\"PupilName\"]=paste(pupil_df_renamed$FirstName,pupil_df_renamed$MiddleName,pupil_df_renamed$LastName)\n",
    "pupil_df_renamed[\"PupilName\"]=str_replace_all(pupil_df_renamed[[\"PupilName\"]],\"NA\",\"\")\n",
    "pupil_df_renamed$PupilName <- str_replace_all(pupil_df_renamed$PupilName, \"\\\\s+\",\" \")\n",
    "\n"
   ]
  },
  {
   "cell_type": "code",
   "execution_count": null,
   "id": "c7cde0f5",
   "metadata": {},
   "outputs": [],
   "source": [
    "# Define the CurrentStatus Variable so the two options (- and +) match the database output:\n",
    "\n",
    "pupil_df_defined <- pupil_df_renamed %>%mutate(CurrentStatus = ifelse(CurrentStatus=='Paid In Full',\"+\", \n",
    "                                ifelse(CurrentStatus=='Overdue - Grace', \"+\", \n",
    "                                       ifelse(CurrentStatus=='Overdue - No Service', \"-\", \"NA\")))\n",
    "  ) \n"
   ]
  },
  {
   "cell_type": "code",
   "execution_count": null,
   "id": "e2baa1ef",
   "metadata": {},
   "outputs": [],
   "source": [
    "# Clean up the Academy Names:\n",
    "# Remove apostrophes from academies with apostrophes\n",
    "pupil_df_defined$AcademyName <- gsub(\"'\", '', pupil_df_defined$AcademyName)"
   ]
  },
  {
   "cell_type": "code",
   "execution_count": null,
   "id": "8145ab6e",
   "metadata": {},
   "outputs": [],
   "source": [
    "# Add ECE to Primary Classes\n",
    "pupil_df_defined$GradeName <- ifelse(pupil_df_defined$GradeName == \"Baby Class\", \"ECD 1: Baby Class\",\n",
    "                                     ifelse(pupil_df_defined$GradeName == \"Pre-primary 1\",\"ECD 2: Pre-primary 1\",\n",
    "                                                        ifelse(pupil_df_defined$GradeName == \"Pre-primary 2\", \n",
    "                                                            \"ECD 3: Pre-primary 2\", pupil_df_defined$GradeName)))"
   ]
  },
  {
   "cell_type": "code",
   "execution_count": null,
   "id": "b239b3e5",
   "metadata": {},
   "outputs": [],
   "source": [
    "# Define the classroom variable as the concatenation of GradeName and Stream:\n",
    "\n",
    "pupil_df_defined$classroom <- paste(pupil_df_defined$GradeName, pupil_df_defined$Stream)"
   ]
  },
  {
   "cell_type": "code",
   "execution_count": null,
   "id": "7e1aae67",
   "metadata": {},
   "outputs": [],
   "source": [
    "# Select the final variables: \n",
    "\n",
    "pupil_df_final <- pupil_df_defined %>% select(\n",
    "  'PupilID', 'AcademyName', 'PupilName', \n",
    "  'CurrentStatus', 'TotalBalance', \n",
    "  'GradeName', 'Stream', 'classroom')"
   ]
  },
  {
   "cell_type": "code",
   "execution_count": null,
   "id": "aebe84b4",
   "metadata": {},
   "outputs": [],
   "source": [
    "# Check for duplicate Pupil IDs:\n",
    "\n",
    "dups <- pupil_df_final[duplicated(pupil_df_final$PupilID),]\n",
    "\n",
    "dim(dups)\n",
    "\n",
    "dups"
   ]
  },
  {
   "cell_type": "code",
   "execution_count": null,
   "id": "a88f21ae",
   "metadata": {},
   "outputs": [],
   "source": [
    "# Preview the Output: \n",
    "dim(pupil_df_final); \n",
    "unique(pupil_df_final$CurrentStatus); unique(pupil_df_final$GradeName)\n",
    "head(pupil_df_final)"
   ]
  },
  {
   "cell_type": "code",
   "execution_count": null,
   "id": "85658815",
   "metadata": {},
   "outputs": [],
   "source": [
    "pupil_df_final <- pupil_df_final[!duplicated(pupil_df_final$PupilID),]"
   ]
  },
  {
   "cell_type": "code",
   "execution_count": null,
   "id": "62241f05",
   "metadata": {},
   "outputs": [],
   "source": [
    "download_path=\"G:/My Drive/KE_QA_2021_22/Term 3/3. STG Databases/3. Output/\"\n",
    "\n",
    "write.csv(\n",
    "  pupil_df_final, paste(download_path,pupil_status_for_stg, sep=''), \n",
    "  row.names=FALSE, na =\".\")"
   ]
  },
  {
   "cell_type": "code",
   "execution_count": null,
   "id": "9cb004ed",
   "metadata": {},
   "outputs": [],
   "source": [
    "message_prep_pupil_status <- paste(\n",
    "  \"PUPIL DATABASE: Dataset with \", nrow(pupil_df_final), \n",
    "  \" pupils exported for \", date, \n",
    "  sep=\"\")\n"
   ]
  },
  {
   "cell_type": "code",
   "execution_count": null,
   "id": "af135474",
   "metadata": {},
   "outputs": [],
   "source": [
    "file_active_teachers <- paste(\n",
    "  'Active Teachers and Academy Managers_', survey_visit, '.csv', sep='')\n",
    "\n",
    "academy_roster_for_stg <- paste(\n",
    "  survey_visit, '_0_Academy Roster cleaned', '.csv', sep='')\n"
   ]
  },
  {
   "cell_type": "code",
   "execution_count": null,
   "id": "6421211c",
   "metadata": {},
   "outputs": [],
   "source": [
    "# Downloading csv from drive\n",
    "dat=read_csv(paste(reported_file_path,file_active_teachers,sep = ''),\n",
    "  col_names=TRUE, col_types = cols())\n",
    "  \n"
   ]
  },
  {
   "cell_type": "code",
   "execution_count": null,
   "id": "2e4036bc",
   "metadata": {},
   "outputs": [],
   "source": [
    "needed_columns <- c(\"EmpID\", \"EmpName\", \"Academycode\", \n",
    "                    \"JobTitle\",\"AssignedGrade\",\"AssignedClassroom\")\n"
   ]
  },
  {
   "cell_type": "code",
   "execution_count": null,
   "id": "dbd65cd8",
   "metadata": {},
   "outputs": [],
   "source": [
    "dat_reduced <- dat %>% \n",
    "  #select(all_of(needed_columns)) %>% \n",
    "  select(needed_columns) %>% \n",
    "  rename('AcademyName'='Academycode', \n",
    "         'GradeName'='AssignedGrade', \n",
    "         'Stream'='AssignedClassroom')\n"
   ]
  },
  {
   "cell_type": "code",
   "execution_count": null,
   "id": "3fcec013",
   "metadata": {},
   "outputs": [],
   "source": [
    "dat_reduced$classroom <- paste(\n",
    "  dat_reduced$GradeName,\" \",dat_reduced$Stream, sep=\"\")"
   ]
  },
  {
   "cell_type": "code",
   "execution_count": null,
   "id": "34f90343",
   "metadata": {},
   "outputs": [],
   "source": [
    "# Remove Duplicates & Entries without Assignment\n",
    "dat_final <- dat_reduced[!duplicated(dat_reduced$EmpID), ]\n",
    "dat_final <- dat_final[!is.na(dat_final$AcademyName), ]\n",
    "\n",
    "# Remove line breaks and carriage returns\n",
    "dat_final$EmpName <- gsub(\"\\r?\\n|\\r\",\"\",dat_final$EmpName)\n"
   ]
  },
  {
   "cell_type": "code",
   "execution_count": null,
   "id": "748ecfe4",
   "metadata": {},
   "outputs": [],
   "source": [
    "# Add a \"Teacher Missing from List\" for each school\n",
    "list_of_schools <- dat_final  \n",
    "\n",
    "list_of_schools$EmpID <- NA\n",
    "list_of_schools$EmpName <- NA\n",
    "list_of_schools$JobTitle <- \"Permanent Teacher\"\n",
    "list_of_schools$classroom <- NA\n",
    "list_of_schools$GradeName <- NA\n",
    "list_of_schools$Stream <- NA\n"
   ]
  },
  {
   "cell_type": "code",
   "execution_count": null,
   "id": "7396180f",
   "metadata": {},
   "outputs": [],
   "source": [
    "unique_schools <- list_of_schools[!duplicated(list_of_schools),]\n",
    "unique_schools  <- unique_schools %>% \n",
    "  mutate(count = seq(n()))"
   ]
  },
  {
   "cell_type": "code",
   "execution_count": null,
   "id": "353825c6",
   "metadata": {},
   "outputs": [],
   "source": [
    "unique_schools$EmpID <- unique_schools$count\n",
    "needed_columns <- c(\"EmpID\" ,\"EmpName\", \"AcademyName\", \n",
    "                    \"JobTitle\", \"GradeName\", \"Stream\", \"classroom\")\n",
    "unique_schools <- unique_schools[ , needed_columns]\n",
    "\n",
    "unique_schools$EmpName <- \"*Teacher Departed, Current Vacancy\""
   ]
  },
  {
   "cell_type": "code",
   "execution_count": null,
   "id": "c07a3bda",
   "metadata": {},
   "outputs": [],
   "source": [
    "departed <- unique_schools\n",
    "departed$EmpID <- departed$EmpID*10 + 1\n",
    "\n",
    "\n",
    "unique_schools$EmpName <- \"*Class De-streamed\"\n",
    "destreamed <- unique_schools\n",
    "destreamed$EmpID <- destreamed$EmpID*100000 + 1\n"
   ]
  },
  {
   "cell_type": "code",
   "execution_count": null,
   "id": "11f3a3d3",
   "metadata": {},
   "outputs": [],
   "source": [
    "# Append all these\n",
    "dat_for_upload <- rbind(dat_final, departed, destreamed)\n"
   ]
  },
  {
   "cell_type": "code",
   "execution_count": null,
   "id": "202f0ce5",
   "metadata": {},
   "outputs": [],
   "source": [
    "# Add ECE to Primary Classes\n",
    "dat_for_upload$GradeName <- ifelse(\n",
    "  dat_for_upload$GradeName == \"Baby Class\", \n",
    "  \"ECD 1: Baby Class\", dat_for_upload$GradeName)\n",
    "dat_for_upload$GradeName <- ifelse(\n",
    "  dat_for_upload$GradeName == \"Pre-primary 1\", \n",
    "  \"ECD 2: Pre-primary 1\", dat_for_upload$GradeName)\n",
    "dat_for_upload$GradeName <- ifelse(\n",
    "  dat_for_upload$GradeName == \"Pre-primary 2\", \n",
    "  \"ECD 3: Pre-primary 2\", dat_for_upload$GradeName)\n"
   ]
  },
  {
   "cell_type": "code",
   "execution_count": null,
   "id": "d81dec12",
   "metadata": {},
   "outputs": [],
   "source": [
    "# Remove apostrophes from academies with apostrophes\n",
    "dat_for_upload$AcademyName <- gsub(\"'\", '', dat_for_upload$AcademyName)\n",
    "\n",
    "#Remove apostrophes from names\n",
    "dat_for_upload$EmpName <- gsub(\"'\",\" \",dat_for_upload$EmpName)\n"
   ]
  },
  {
   "cell_type": "code",
   "execution_count": null,
   "id": "261581a4",
   "metadata": {},
   "outputs": [],
   "source": [
    "# Export to CSV\n",
    "\n",
    "download_path=\"G:/My Drive/KE_QA_2021_22/Term 3/3. STG Databases/3. Output/\"\n",
    "\n",
    "write.csv(\n",
    "  dat_for_upload, paste(download_path,academy_roster_for_stg, sep=''), \n",
    "  row.names=FALSE, na =\".\")\n"
   ]
  },
  {
   "cell_type": "code",
   "execution_count": null,
   "id": "15c97dac",
   "metadata": {},
   "outputs": [],
   "source": [
    "message_prep_academy_roster <- paste(\n",
    "  \"ACADEMY ROSTER: Dataset with \", nrow(dat_for_upload), \n",
    "  \" teachers exported for \", date, \n",
    "  sep=\"\")\n",
    "\n",
    "#Remove un-needed dataframes and values\n",
    "rm(dat, dat_final, dat_for_upload, dat_reduced, departed, destreamed, \n",
    "   list_of_schools, unique_schools, academy_roster_for_stg, needed_columns)\n"
   ]
  }
 ],
 "metadata": {
  "kernelspec": {
   "display_name": "R",
   "language": "R",
   "name": "ir"
  }
 },
 "nbformat": 4,
 "nbformat_minor": 5
}
